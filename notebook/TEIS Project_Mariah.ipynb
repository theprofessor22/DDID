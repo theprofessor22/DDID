{
 "cells": [
  {
   "cell_type": "code",
   "execution_count": null,
   "id": "b89a689c",
   "metadata": {},
   "outputs": [],
   "source": [
    "import pandas as pd\n",
    "import numpy as np\n",
    "import re\n",
    "from datetime import datetime"
   ]
  },
  {
   "cell_type": "code",
   "execution_count": null,
   "id": "be4d15e7",
   "metadata": {},
   "outputs": [],
   "source": [
    "TEIS = pd.read_excel(r\"C:\\Users\\mnorm\\Documents\\NSS\\Python\\Projects\\ddid-rasberry-pi\\data\\TEIS Exit Data for NSS.xlsx\", sheet_name = 3)"
   ]
  },
  {
   "cell_type": "code",
   "execution_count": null,
   "id": "7c185882",
   "metadata": {},
   "outputs": [],
   "source": [
    "TEIS_subset = TEIS[['Child ID', 'DOB', 'Initial IFSP Date', 'Exit Reason', 'Exit Date', 'Days from I-IFSP to Exit', 'Exit Note']]\n",
    "TEIS_subset"
   ]
  },
  {
   "cell_type": "markdown",
   "id": "9d81d417",
   "metadata": {},
   "source": [
    "## Recalculate the Days of Service for Each Child by Considering the Notes"
   ]
  },
  {
   "cell_type": "markdown",
   "id": "fddac303",
   "metadata": {},
   "source": [
    "### Removing Rows with Null Values in the Exit Note Column"
   ]
  },
  {
   "cell_type": "code",
   "execution_count": null,
   "id": "40394b79",
   "metadata": {},
   "outputs": [],
   "source": [
    "TEIS_filt = TEIS_subset[TEIS_subset['Exit Note'].notnull()]\n",
    "pd.set_option('display.max_colwidth', None)\n",
    "TEIS_filt"
   ]
  },
  {
   "cell_type": "markdown",
   "id": "a7f4b2d8",
   "metadata": {},
   "source": [
    "### Filtering for Exit Notes that contain Dates"
   ]
  },
  {
   "cell_type": "code",
   "execution_count": null,
   "id": "2dc9df1e",
   "metadata": {},
   "outputs": [],
   "source": [
    "TEIS_with_dates = TEIS_filt.loc[TEIS_filt['Exit Note'].str.contains(r\"(\\d+/\\d+/\\d+)\", case=False)]\n",
    "TEIS_with_dates"
   ]
  },
  {
   "cell_type": "markdown",
   "id": "3438ddc5",
   "metadata": {},
   "source": [
    "### Filtering for Exit Notes that contain the phrase 'Reopened'"
   ]
  },
  {
   "cell_type": "code",
   "execution_count": null,
   "id": "39190d19",
   "metadata": {},
   "outputs": [],
   "source": [
    "TEIS_reopened = TEIS_with_dates.loc[TEIS_with_dates['Exit Note'].str.contains('reopened[a-z]*', flags=re.I, regex=True)]\n",
    "TEIS_reopened"
   ]
  },
  {
   "cell_type": "markdown",
   "id": "e15ecc7d",
   "metadata": {},
   "source": [
    "## Testing Regex"
   ]
  },
  {
   "cell_type": "code",
   "execution_count": null,
   "id": "3e44c8bd",
   "metadata": {},
   "outputs": [],
   "source": [
    "z = TEIS_reopened.loc[ 5, 'Exit Note']\n",
    "z"
   ]
  },
  {
   "cell_type": "code",
   "execution_count": null,
   "id": "0c9cd0b7",
   "metadata": {},
   "outputs": [],
   "source": [
    "#isolating the dates\n",
    "date = re.findall(r'\\d{2}/\\d{2}/\\d{4}', z)\n",
    "\n",
    "for dates in date :\n",
    "    print(dates)"
   ]
  },
  {
   "cell_type": "code",
   "execution_count": null,
   "id": "d9743d4d",
   "metadata": {},
   "outputs": [],
   "source": [
    "#isolating the string/date column to confirm I'm pulling the desired dates\n",
    "string = re.findall(r'Reopened: \\d{2}/\\d{2}/\\d{4} Exit Date: \\d{2}/\\d{2}/\\d{4}', z)\n",
    "string"
   ]
  },
  {
   "cell_type": "code",
   "execution_count": null,
   "id": "a1f090fe",
   "metadata": {},
   "outputs": [],
   "source": [
    "y = TEIS_reopened.loc[30, 'Exit Note']\n",
    "y"
   ]
  },
  {
   "cell_type": "code",
   "execution_count": null,
   "id": "335f17c5",
   "metadata": {
    "scrolled": true
   },
   "outputs": [],
   "source": [
    "#ensuring that this expression will extract every occurance of this pattern within the string\n",
    "re.findall(r'Reopened: \\d{2}/\\d{2}/\\d{4} Exit Date: \\d{2}/\\d{2}/\\d{4}', y)"
   ]
  },
  {
   "cell_type": "code",
   "execution_count": null,
   "id": "5d682f04",
   "metadata": {},
   "outputs": [],
   "source": [
    "#splitting the pattern by Reopened/Exit Date so that they can go in separate columns\n",
    "w = re.findall(r'Reopened: \\d{2}/\\d{2}/\\d{4}', y)\n",
    "v = re.findall(r'Exit Date: \\d{2}/\\d{2}/\\d{4}', y)"
   ]
  },
  {
   "cell_type": "code",
   "execution_count": null,
   "id": "1e9a83ca",
   "metadata": {},
   "outputs": [],
   "source": [
    "ww = \" \".join(map(str,w))\n",
    "type(ww)"
   ]
  },
  {
   "cell_type": "code",
   "execution_count": null,
   "id": "088a6d65",
   "metadata": {},
   "outputs": [],
   "source": [
    "#extracting just the date from the reopened/exit date string\n",
    "re.findall(r'\\d{2}/\\d{2}/\\d{4}', ww)"
   ]
  },
  {
   "cell_type": "code",
   "execution_count": null,
   "id": "02efbfa6",
   "metadata": {},
   "outputs": [],
   "source": [
    "#try creating a for loop to extract the dates if converting to a string doesn't work\n",
    "re.findall(r'\\d{2}/\\d{2}/\\d{4}', w[0])"
   ]
  },
  {
   "cell_type": "markdown",
   "id": "00a65329",
   "metadata": {},
   "source": [
    "## Using Regex on DataFrame"
   ]
  },
  {
   "cell_type": "code",
   "execution_count": null,
   "id": "64117f3d",
   "metadata": {},
   "outputs": [],
   "source": [
    "x = TEIS_reopened[['Exit Note']]\n",
    "x"
   ]
  },
  {
   "cell_type": "code",
   "execution_count": null,
   "id": "d7bf6f09",
   "metadata": {},
   "outputs": [],
   "source": [
    "dates = TEIS_reopened['Exit Note'].str.findall(r'\\d{2}/\\d{2}/\\d{4}')\n",
    "dates"
   ]
  },
  {
   "cell_type": "code",
   "execution_count": null,
   "id": "7bfd869f",
   "metadata": {},
   "outputs": [],
   "source": [
    "string_col = TEIS_reopened['Exit Note'].str.extract(r'(Reopened: \\d{2}/\\d{2}/\\d{4} Exit Date: \\d{2}/\\d{2}/\\d{4})')\n",
    "string_col"
   ]
  },
  {
   "cell_type": "code",
   "execution_count": null,
   "id": "9137e220",
   "metadata": {},
   "outputs": [],
   "source": [
    "reopened_dates = TEIS_reopened['Exit Note'].str.extract(r'(Reopened: \\d{2}/\\d{2}/\\d{4})')\n",
    "reopened_dates           "
   ]
  },
  {
   "cell_type": "code",
   "execution_count": null,
   "id": "97d36358",
   "metadata": {},
   "outputs": [],
   "source": [
    "exit_dates = TEIS_reopened['Exit Note'].str.extract(r'(Exit Date: \\d{2}/\\d{2}/\\d{4})')\n",
    "exit_dates"
   ]
  },
  {
   "cell_type": "markdown",
   "id": "cef33b72",
   "metadata": {},
   "source": [
    "**Creating New Column for Reopened Dates** "
   ]
  },
  {
   "cell_type": "code",
   "execution_count": null,
   "id": "a3e06161",
   "metadata": {},
   "outputs": [],
   "source": [
    "TEIS_reopened['Reopened Dates'] = TEIS_reopened['Exit Note'].str.extract(r'Reopened: (\\d{2}/\\d{2}/\\d{4})')"
   ]
  },
  {
   "cell_type": "markdown",
   "id": "c6d36529",
   "metadata": {},
   "source": [
    "**Creating New Column for Exit Dates** "
   ]
  },
  {
   "cell_type": "code",
   "execution_count": null,
   "id": "97f8e104",
   "metadata": {},
   "outputs": [],
   "source": [
    "TEIS_reopened['Exit Dates'] = TEIS_reopened['Exit Note'].str.extract(r'Exit Date: (\\d{2}/\\d{2}/\\d{4})')"
   ]
  },
  {
   "cell_type": "code",
   "execution_count": null,
   "id": "683c658a",
   "metadata": {},
   "outputs": [],
   "source": [
    "TEIS_reopened"
   ]
  },
  {
   "cell_type": "markdown",
   "id": "36029b3e",
   "metadata": {},
   "source": [
    "**Converting to Datetime**"
   ]
  },
  {
   "cell_type": "code",
   "execution_count": null,
   "id": "cc11acb4",
   "metadata": {},
   "outputs": [],
   "source": [
    "TEIS_reopened.dtypes"
   ]
  },
  {
   "cell_type": "code",
   "execution_count": null,
   "id": "6826b411",
   "metadata": {},
   "outputs": [],
   "source": [
    "TEIS_reopened['Reopened Dates'] = pd.to_datetime(TEIS_reopened['Reopened Dates'])"
   ]
  },
  {
   "cell_type": "code",
   "execution_count": null,
   "id": "2b244eb5",
   "metadata": {},
   "outputs": [],
   "source": [
    "TEIS_reopened.dtypes"
   ]
  },
  {
   "cell_type": "code",
   "execution_count": null,
   "id": "01864c57",
   "metadata": {},
   "outputs": [],
   "source": [
    "TEIS_reopened['Exit Dates'] = pd.to_datetime(TEIS_reopened['Exit Dates'])"
   ]
  },
  {
   "cell_type": "code",
   "execution_count": null,
   "id": "8a65bc73",
   "metadata": {},
   "outputs": [],
   "source": [
    "TEIS_reopened.dtypes"
   ]
  },
  {
   "cell_type": "markdown",
   "id": "0bce39ee",
   "metadata": {},
   "source": [
    "**Subtracting the Dates**"
   ]
  },
  {
   "cell_type": "code",
   "execution_count": null,
   "id": "fb2f67b4",
   "metadata": {},
   "outputs": [],
   "source": [
    "for index, row in TEIS_reopened.iterrows():\n",
    "    if ((row['Reopened Dates'] > row['Initial IFSP Date']) and\n",
    "        (row['Reopened Dates'] < row['Exit Date']) and\n",
    "        (row['Exit Dates'] > row['Initial IFSP Date']) and\n",
    "        (row['Exit Dates'] < row['Exit Date'])):\n",
    "        time_elapsed = (row['Reopened Dates'] - row['Exit Dates']).days\n",
    "        TEIS_reopened.at[index, 'time_elapsed'] = time_elapsed\n",
    "    \n",
    "    else:\n",
    "        TEIS_reopened.at[index, 'time_elapsed'] = np.nan   "
   ]
  },
  {
   "cell_type": "code",
   "execution_count": null,
   "id": "4cb7b252",
   "metadata": {},
   "outputs": [],
   "source": [
    "TEIS_reopened.head()"
   ]
  },
  {
   "cell_type": "code",
   "execution_count": null,
   "id": "b61cb8b1",
   "metadata": {},
   "outputs": [],
   "source": [
    "TEIS_reopened.dtypes"
   ]
  },
  {
   "cell_type": "markdown",
   "id": "6a68c5a8",
   "metadata": {},
   "source": [
    "**Find How Many Times Reopened/Exit Date is Mentioned**"
   ]
  },
  {
   "cell_type": "code",
   "execution_count": null,
   "id": "6e625f94",
   "metadata": {},
   "outputs": [],
   "source": [
    "len(re.findall(r'Reopened: \\d{2}/\\d{2}/\\d{4}', y))"
   ]
  },
  {
   "cell_type": "code",
   "execution_count": null,
   "id": "16f089b4",
   "metadata": {},
   "outputs": [],
   "source": [
    "TEIS_reopened['Number of Reopened Dates'] = TEIS_reopened['Exit Note'].str.count(r'(Reopened: \\d{2}/\\d{2}/\\d{4})')"
   ]
  },
  {
   "cell_type": "code",
   "execution_count": null,
   "id": "77cf312a",
   "metadata": {},
   "outputs": [],
   "source": [
    "TEIS_reopened['Number of Exit Dates'] = TEIS_reopened['Exit Note'].str.count(r'Exit Date: \\d{2}/\\d{2}/\\d{4}')"
   ]
  },
  {
   "cell_type": "code",
   "execution_count": null,
   "id": "c61f1f2e",
   "metadata": {
    "scrolled": false
   },
   "outputs": [],
   "source": [
    "TEIS_reopened.shape"
   ]
  },
  {
   "cell_type": "markdown",
   "id": "3a9b8fd6",
   "metadata": {},
   "source": [
    "**Subset the rows that have a count = 1**"
   ]
  },
  {
   "cell_type": "code",
   "execution_count": null,
   "id": "2ecebcff",
   "metadata": {},
   "outputs": [],
   "source": [
    "TEIS_single_date = TEIS_reopened[(TEIS_reopened['Number of Reopened Dates'] == 1) & (TEIS_reopened['Number of Exit Dates'] == 1)]\n",
    "TEIS_single_date"
   ]
  },
  {
   "cell_type": "code",
   "execution_count": null,
   "id": "81a40a02",
   "metadata": {},
   "outputs": [],
   "source": [
    "TEIS_single_date['Real IFSP to Exit Time (Days)'] = (TEIS_single_date['Days from I-IFSP to Exit'] - TEIS_single_date['time_elapsed'])\n",
    "TEIS_single_date.shape"
   ]
  },
  {
   "cell_type": "markdown",
   "id": "4cf8299c",
   "metadata": {},
   "source": [
    "**Subset the rows with Reopened = 1 and Exit Date > 1**"
   ]
  },
  {
   "cell_type": "code",
   "execution_count": null,
   "id": "216b0713",
   "metadata": {},
   "outputs": [],
   "source": [
    "TEIS_diff_dates = TEIS_reopened[(TEIS_reopened['Number of Reopened Dates'] <= 1) & (TEIS_reopened['Number of Exit Dates'] > 1)]\n",
    "TEIS_diff_dates.head()"
   ]
  },
  {
   "cell_type": "markdown",
   "id": "8f6db9bb",
   "metadata": {},
   "source": [
    "**Subset the rows that have a count > 1**"
   ]
  },
  {
   "cell_type": "code",
   "execution_count": null,
   "id": "ba8256f2",
   "metadata": {},
   "outputs": [],
   "source": [
    "TEIS_multiple_dates = TEIS_reopened[(TEIS_reopened['Number of Reopened Dates'] > 1) & (TEIS_reopened['Number of Exit Dates'] > 1)]\n",
    "TEIS_multiple_dates.head(2)"
   ]
  },
  {
   "cell_type": "markdown",
   "id": "169dee40",
   "metadata": {},
   "source": [
    "**Create subset to analyze rows w/ count > 1**"
   ]
  },
  {
   "cell_type": "code",
   "execution_count": null,
   "id": "81f2e01a",
   "metadata": {},
   "outputs": [],
   "source": [
    "child_info = TEIS_multiple_dates[['Child ID','Initial IFSP Date', 'Exit Date']]"
   ]
  },
  {
   "cell_type": "code",
   "execution_count": null,
   "id": "ebfc8068",
   "metadata": {},
   "outputs": [],
   "source": [
    "multi_reopen_dates = TEIS_multiple_dates['Exit Note'].str.findall(r'Reopened: (\\d{2}/\\d{2}/\\d{4})')\n",
    "multi_reopen_dates"
   ]
  },
  {
   "cell_type": "code",
   "execution_count": null,
   "id": "dbdde8d6",
   "metadata": {},
   "outputs": [],
   "source": [
    "multi_exit_dates = TEIS_multiple_dates['Exit Note'].str.findall(r'Exit Date: (\\d{2}/\\d{2}/\\d{4})')\n",
    "multi_exit_dates"
   ]
  },
  {
   "cell_type": "code",
   "execution_count": null,
   "id": "e12075cc",
   "metadata": {},
   "outputs": [],
   "source": [
    "subset = pd.concat([child_info, multi_reopen_dates, multi_exit_dates], axis = 1).reset_index(drop = True)\n",
    "subset.columns = ['Child ID', 'Initial IFSP Date', 'Exit Date', 'Reopen Dates', 'Exit Dates']\n",
    "subset"
   ]
  },
  {
   "cell_type": "code",
   "execution_count": null,
   "id": "a9e732ec",
   "metadata": {},
   "outputs": [],
   "source": [
    "subset_expand_reopen = pd.DataFrame(subset['Reopen Dates'].tolist(), columns = ['Reopen 0', 'Reopen 1', 'Reopen 2', 'Reopen 3', 'Reopen 4', 'Reopen 5']).apply(pd.to_datetime)"
   ]
  },
  {
   "cell_type": "code",
   "execution_count": null,
   "id": "504315cc",
   "metadata": {},
   "outputs": [],
   "source": [
    "subset_expand_exit = pd.DataFrame(subset['Exit Dates'].tolist(), columns = ['Exit 0', 'Exit 1', 'Exit 2', 'Exit 3', 'Exit 4', 'Exit 5']).apply(pd.to_datetime)"
   ]
  },
  {
   "cell_type": "code",
   "execution_count": null,
   "id": "c3203d61",
   "metadata": {},
   "outputs": [],
   "source": [
    "subset_expanded = pd.concat([subset, subset_expand_reopen, subset_expand_exit], axis = 1)\n",
    "subset_expanded"
   ]
  },
  {
   "cell_type": "code",
   "execution_count": null,
   "id": "7e15e7dd",
   "metadata": {},
   "outputs": [],
   "source": [
    "subset_expanded.info()"
   ]
  },
  {
   "cell_type": "markdown",
   "id": "4b2e8e13",
   "metadata": {},
   "source": [
    "**Subtracting Across Columns**"
   ]
  },
  {
   "cell_type": "code",
   "execution_count": null,
   "id": "40df35ff",
   "metadata": {},
   "outputs": [],
   "source": [
    "for index, row in subset_expanded.iterrows():\n",
    "    new_diff = 0\n",
    "    for num in range(0,6):\n",
    "        if ((row[f'Exit {num}'] != row[f'Reopen {num}']) and\n",
    "            (row[f'Exit {num}'] != np.nan)  and\n",
    "            (row[f'Reopen {num}'] != np.nan) and\n",
    "            (row[f'Exit {num}'] > row['Initial IFSP Date']) and\n",
    "            (row[f'Exit {num}'] < row['Exit Date']) and\n",
    "            (row[f'Reopen {num}'] > row['Initial IFSP Date']) and\n",
    "            (row[f'Reopen {num}'] < row['Exit Date'])):\n",
    "            mult_diff_days = (row[f'Reopen {num}'] - row[f'Exit {num}']).days\n",
    "            new_diff += mult_diff_days\n",
    "            subset_expanded.at[index, 'diff_days_new'] = new_diff\n",
    "        else:\n",
    "            pass"
   ]
  },
  {
   "cell_type": "code",
   "execution_count": null,
   "id": "c6a7f6ff",
   "metadata": {},
   "outputs": [],
   "source": [
    "subset_expanded"
   ]
  },
  {
   "cell_type": "code",
   "execution_count": null,
   "id": "15d90367",
   "metadata": {},
   "outputs": [],
   "source": [
    "subset_expanded.loc[subset_expanded['Child ID'] == 433605]"
   ]
  },
  {
   "cell_type": "code",
   "execution_count": null,
   "id": "ab1925ae",
   "metadata": {},
   "outputs": [],
   "source": [
    "subset_expanded.loc[subset_expanded['diff_days_new'] < 0]"
   ]
  },
  {
   "cell_type": "markdown",
   "id": "a3c3803c",
   "metadata": {},
   "source": [
    "**Recalculated Days of Service**"
   ]
  },
  {
   "cell_type": "code",
   "execution_count": null,
   "id": "585c6649",
   "metadata": {},
   "outputs": [],
   "source": [
    "extract_time = subset_expanded[['Child ID', 'diff_days_new']]"
   ]
  },
  {
   "cell_type": "code",
   "execution_count": null,
   "id": "80a5fad8",
   "metadata": {
    "scrolled": false
   },
   "outputs": [],
   "source": [
    "subset_multi_dates = pd.merge(TEIS_multiple_dates, extract_time, on = 'Child ID', how = 'left')\n",
    "subset_multi_dates.head(2)"
   ]
  },
  {
   "cell_type": "code",
   "execution_count": null,
   "id": "3ab627b3",
   "metadata": {},
   "outputs": [],
   "source": [
    "subset_multi_dates['total_diff'] = subset_multi_dates['Days from I-IFSP to Exit'] - subset_multi_dates['diff_days_new']\n",
    "subset_multi_dates.head(3)"
   ]
  },
  {
   "cell_type": "markdown",
   "id": "49293139",
   "metadata": {},
   "source": [
    "## Explore the Reasons that Children Exit the Program"
   ]
  },
  {
   "cell_type": "markdown",
   "id": "f8ed4800",
   "metadata": {},
   "source": [
    "How often is it the case that children are aging out of the program compared to other reasons for leaving? "
   ]
  },
  {
   "cell_type": "code",
   "execution_count": null,
   "id": "b9775f91",
   "metadata": {},
   "outputs": [],
   "source": [
    "round(TEIS['Exit Reason'].value_counts(), 4)"
   ]
  },
  {
   "cell_type": "markdown",
   "id": "95a4cffe",
   "metadata": {},
   "source": [
    "What are the reasons that children are leaving and later coming back? \n",
    "    "
   ]
  },
  {
   "cell_type": "code",
   "execution_count": null,
   "id": "869aa45d",
   "metadata": {},
   "outputs": [],
   "source": [
    "round(TEIS_reopened['Exit Reason'].value_counts(), 4)"
   ]
  },
  {
   "cell_type": "code",
   "execution_count": null,
   "id": "1ed2bb87",
   "metadata": {},
   "outputs": [],
   "source": [
    "single_date_reasons = pd.concat([TEIS_single_date['Exit Reason'].value_counts(), \n",
    "                                 TEIS_single_date['Exit Reason'].value_counts(normalize = True).mul(100)],axis = 1, keys = ('Count', 'Percentage'))\n",
    "round(single_date_reasons, 3)"
   ]
  },
  {
   "cell_type": "code",
   "execution_count": null,
   "id": "062baabd",
   "metadata": {},
   "outputs": [],
   "source": [
    "single_date_reasons.to_excel(\"single_date_charts.xlsx\")"
   ]
  },
  {
   "cell_type": "code",
   "execution_count": null,
   "id": "ff658669",
   "metadata": {},
   "outputs": [],
   "source": [
    "multi_date_reasons = pd.concat([TEIS_multiple_dates['Exit Reason'].value_counts(), \n",
    "           TEIS_multiple_dates['Exit Reason'].value_counts(normalize = True).mul(100)],axis = 1, keys = ('Count', 'Percentage'))\n",
    "round(multi_date_reasons, 3)"
   ]
  },
  {
   "cell_type": "code",
   "execution_count": null,
   "id": "a9b7327f",
   "metadata": {},
   "outputs": [],
   "source": [
    "multi_date_reasons.to_excel(\"reasons_chart.xlsx\") "
   ]
  },
  {
   "cell_type": "code",
   "execution_count": null,
   "id": "664f5d08",
   "metadata": {},
   "outputs": [],
   "source": [
    "TEIS_reopened[['Exit Reason','Exit Note']]"
   ]
  },
  {
   "cell_type": "code",
   "execution_count": null,
   "id": "a9e817a0",
   "metadata": {},
   "outputs": [],
   "source": [
    "TEIS_multiple_dates[['Exit Reason', 'Exit Note']]"
   ]
  },
  {
   "cell_type": "code",
   "execution_count": null,
   "id": "476ea5fc",
   "metadata": {},
   "outputs": [],
   "source": [
    "TEIS_reopened.loc[TEIS_reopened['Exit Reason'] == '618 - Attempts to contact unsuccessful'].head(2)"
   ]
  },
  {
   "cell_type": "code",
   "execution_count": null,
   "id": "ea7fd4d9",
   "metadata": {},
   "outputs": [],
   "source": [
    "TEIS_reopened.loc[TEIS_reopened['Exit Reason'] == '618 - Part B eligibility not determined']"
   ]
  },
  {
   "cell_type": "markdown",
   "id": "cacb284c",
   "metadata": {},
   "source": [
    "How often do children have less than six months of service for reasons other than aging out?"
   ]
  },
  {
   "cell_type": "markdown",
   "id": "3e1b818e",
   "metadata": {},
   "source": [
    "&emsp; Children with Multiple Reopen/Exit Dates"
   ]
  },
  {
   "cell_type": "code",
   "execution_count": null,
   "id": "6df510aa",
   "metadata": {},
   "outputs": [],
   "source": [
    "subset_multi_dates.loc[subset_multi_dates['total_diff'] <= 180].shape"
   ]
  },
  {
   "cell_type": "code",
   "execution_count": null,
   "id": "b29844ca",
   "metadata": {},
   "outputs": [],
   "source": [
    "subset_multi_"
   ]
  },
  {
   "cell_type": "markdown",
   "id": "24149bf8",
   "metadata": {},
   "source": [
    "&emsp; Children with One Reopen/Exit Date"
   ]
  },
  {
   "cell_type": "code",
   "execution_count": null,
   "id": "af39f351",
   "metadata": {},
   "outputs": [],
   "source": [
    "TEIS_single_date.loc[TEIS_single_date['Real IFSP to Exit Time (Days)'] <= 180].shape"
   ]
  }
 ],
 "metadata": {
  "kernelspec": {
   "display_name": "Python 3 (ipykernel)",
   "language": "python",
   "name": "python3"
  },
  "language_info": {
   "codemirror_mode": {
    "name": "ipython",
    "version": 3
   },
   "file_extension": ".py",
   "mimetype": "text/x-python",
   "name": "python",
   "nbconvert_exporter": "python",
   "pygments_lexer": "ipython3",
   "version": "3.9.7"
  }
 },
 "nbformat": 4,
 "nbformat_minor": 5
}
